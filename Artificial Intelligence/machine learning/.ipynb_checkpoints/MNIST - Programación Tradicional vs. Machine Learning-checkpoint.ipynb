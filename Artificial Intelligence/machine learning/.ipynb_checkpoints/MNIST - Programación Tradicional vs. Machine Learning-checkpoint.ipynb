{
 "cells": [
  {
   "cell_type": "markdown",
   "metadata": {},
   "source": [
    "<img  src=http://repository.icesi.edu.co/biblioteca_digital/image/icesi-logo.svg height=\"250\" width=\"250\">\n",
    "\n",
    "**Author: Javier Díaz, Christian Urcuqui**\n",
    "        "
   ]
  },
  {
   "cell_type": "markdown",
   "metadata": {},
   "source": [
    "# Programación tradicional vs. aprendizaje automático"
   ]
  },
  {
   "cell_type": "markdown",
   "metadata": {},
   "source": [
    "Imagínen que ustedes trabajan en el correo, y quieren automatizar el despacho de los paquetes y cartas.\n",
    "\n",
    "Ya disponen de un software que logra capturar las direcciones y separarlas caracter por caracter en imágenes de 8 píxeles x 8 píxeles en escala de grises, tales que 0 es el negro absoluto, y entre mayor el valor más claro el pixel.\n",
    "\n",
    "Ese software además puede inferir, según el lugar de los caracteres en la dirección, si cada caracter es una letra o un dígito, pero su labor se termina ahí. "
   ]
  },
  {
   "cell_type": "markdown",
   "metadata": {},
   "source": [
    "<img src=\"http://rasbt.github.io/mlxtend/user_guide/data/mnist_data_files/mnist_data_10_0.png\" />"
   ]
  },
  {
   "cell_type": "markdown",
   "metadata": {},
   "source": [
    "## Programación tradicional\n",
    "Ustedes ahora tienen que pensar en 2 programas diferentes: uno que pueda identificar las clases de las imágenes de dígitos (0 a 9) y otro que pueda clasificar los caracteres letra (a-z,A-Z).\n",
    "\n",
    "Centrémonos en el primer problema de clasificación de imágenes de dígitos."
   ]
  },
  {
   "cell_type": "markdown",
   "metadata": {},
   "source": [
    "Consideren que el dataset con las imágenes a tratar ya está disponible en una librería que produce el primer software:"
   ]
  },
  {
   "cell_type": "code",
   "execution_count": 1,
   "metadata": {},
   "outputs": [],
   "source": [
    "from sklearn.datasets import load_digits\n",
    "import pylab as pl\n",
    "import sklearn"
   ]
  },
  {
   "cell_type": "code",
   "execution_count": 2,
   "metadata": {},
   "outputs": [
    {
     "data": {
      "text/plain": [
       "sklearn.utils.Bunch"
      ]
     },
     "execution_count": 2,
     "metadata": {},
     "output_type": "execute_result"
    }
   ],
   "source": [
    "digits = load_digits()\n",
    "type(digits)"
   ]
  },
  {
   "cell_type": "code",
   "execution_count": 3,
   "metadata": {},
   "outputs": [],
   "source": [
    "?sklearn.utils.Bunch"
   ]
  },
  {
   "cell_type": "code",
   "execution_count": 4,
   "metadata": {},
   "outputs": [
    {
     "data": {
      "text/plain": [
       "dict_keys(['data', 'target', 'target_names', 'images', 'DESCR'])"
      ]
     },
     "execution_count": 4,
     "metadata": {},
     "output_type": "execute_result"
    }
   ],
   "source": [
    "digits.keys()"
   ]
  },
  {
   "cell_type": "code",
   "execution_count": 5,
   "metadata": {},
   "outputs": [
    {
     "name": "stdout",
     "output_type": "stream",
     "text": [
      "[[ 0.  0.  0. 12. 13.  5.  0.  0.]\n",
      " [ 0.  0.  0. 11. 16.  9.  0.  0.]\n",
      " [ 0.  0.  3. 15. 16.  6.  0.  0.]\n",
      " [ 0.  7. 15. 16. 16.  2.  0.  0.]\n",
      " [ 0.  0.  1. 16. 16.  3.  0.  0.]\n",
      " [ 0.  0.  1. 16. 16.  6.  0.  0.]\n",
      " [ 0.  0.  1. 16. 16.  6.  0.  0.]\n",
      " [ 0.  0.  0. 11. 16. 10.  0.  0.]]\n"
     ]
    }
   ],
   "source": [
    "#for i in range(0,5):\n",
    "print(digits.images[1])"
   ]
  },
  {
   "cell_type": "code",
   "execution_count": 6,
   "metadata": {},
   "outputs": [
    {
     "name": "stdout",
     "output_type": "stream",
     "text": [
      "[13. 16. 16. 16. 16. 16. 16. 16.]\n"
     ]
    }
   ],
   "source": [
    "print(digits.images[1][:,4])"
   ]
  },
  {
   "cell_type": "code",
   "execution_count": 7,
   "metadata": {},
   "outputs": [
    {
     "name": "stdout",
     "output_type": "stream",
     "text": [
      "Se tienen en total: 1797 imágenes\n",
      "[[ 0.  0. 12.  8.  8.  7.  0.  0.]\n",
      " [ 0.  3. 16. 16. 11.  7.  0.  0.]\n",
      " [ 0.  2. 14.  1.  0.  0.  0.  0.]\n",
      " [ 0.  5. 14.  5.  0.  0.  0.  0.]\n",
      " [ 0.  2. 15. 16.  9.  0.  0.  0.]\n",
      " [ 0.  0.  0.  2. 16.  2.  0.  0.]\n",
      " [ 0.  0.  4.  8. 16.  4.  0.  0.]\n",
      " [ 0.  0. 11. 14.  9.  0.  0.  0.]]\n"
     ]
    },
    {
     "data": {
      "text/plain": [
       "<Figure size 432x288 with 0 Axes>"
      ]
     },
     "metadata": {},
     "output_type": "display_data"
    },
    {
     "data": {
      "image/png": "[encoded data removed]",
      "text/plain": [
       "<Figure size 288x288 with 1 Axes>"
      ]
     },
     "metadata": {
      "needs_background": "light"
     },
     "output_type": "display_data"
    }
   ],
   "source": [
    "digits = load_digits()\n",
    "pl.gray() # Queremos las imágenes en grises\n",
    "pl.matshow(digits.images[25]) # Imprimir una imagen dada\n",
    "numImagenes = len(digits.images) # Numero de imagenes, len es un método que provee el tamaño del arreglo\n",
    "print(\"Se tienen en total:\", numImagenes, \"imágenes\")\n",
    "print(digits.images[25]) # Ver su representación en pixeles"
   ]
  },
  {
   "cell_type": "code",
   "execution_count": 8,
   "metadata": {},
   "outputs": [
    {
     "data": {
      "text/plain": [
       "sklearn.utils.Bunch"
      ]
     },
     "execution_count": 8,
     "metadata": {},
     "output_type": "execute_result"
    }
   ],
   "source": [
    "type(digits)"
   ]
  },
  {
   "cell_type": "code",
   "execution_count": 9,
   "metadata": {},
   "outputs": [],
   "source": [
    "?sklearn.utils.Bunch"
   ]
  },
  {
   "cell_type": "code",
   "execution_count": 10,
   "metadata": {},
   "outputs": [
    {
     "data": {
      "text/plain": [
       "array([[ 0.,  0.,  9., 14.,  8.,  1.,  0.,  0.],\n",
       "       [ 0.,  0., 12., 14., 14., 12.,  0.,  0.],\n",
       "       [ 0.,  0.,  9., 10.,  0., 15.,  4.,  0.],\n",
       "       [ 0.,  0.,  3., 16., 12., 14.,  2.,  0.],\n",
       "       [ 0.,  0.,  4., 16., 16.,  2.,  0.,  0.],\n",
       "       [ 0.,  3., 16.,  8., 10., 13.,  2.,  0.],\n",
       "       [ 0.,  1., 15.,  1.,  3., 16.,  8.,  0.],\n",
       "       [ 0.,  0., 11., 16., 15., 11.,  1.,  0.]])"
      ]
     },
     "execution_count": 10,
     "metadata": {},
     "output_type": "execute_result"
    }
   ],
   "source": [
    "digits['images'][8]"
   ]
  },
  {
   "cell_type": "markdown",
   "metadata": {},
   "source": [
    "Después de un proceso de etiquetado manual de varios días, realizado por un estudiante de pregrado en ingeniería de sistemas, en el que manualmente se clasificaron las imágenes una a una, se pudo obtener un *ground truth* con las clases reales de cada imagen.\n",
    "\n",
    "Las etiquetas de las imágenes que indican el dígito real se encuentran disponibles:"
   ]
  },
  {
   "cell_type": "code",
   "execution_count": 11,
   "metadata": {},
   "outputs": [
    {
     "name": "stdout",
     "output_type": "stream",
     "text": [
      "5\n"
     ]
    }
   ],
   "source": [
    "y = digits.target # el método nos provee las etiquetas de las imágenes en un arreglo\n",
    "print(y[25])"
   ]
  },
  {
   "cell_type": "markdown",
   "metadata": {},
   "source": [
    "Para poder simplificar la representación de los datos, se pueden aplanar las matrices de pixeles para poner cada imagen en un solo array de 64 pixeles:"
   ]
  },
  {
   "cell_type": "code",
   "execution_count": 12,
   "metadata": {},
   "outputs": [
    {
     "name": "stdout",
     "output_type": "stream",
     "text": [
      "[ 0.  0. 12.  8.  8.  7.  0.  0.  0.  3. 16. 16. 11.  7.  0.  0.  0.  2.\n",
      " 14.  1.  0.  0.  0.  0.  0.  5. 14.  5.  0.  0.  0.  0.  0.  2. 15. 16.\n",
      "  9.  0.  0.  0.  0.  0.  0.  2. 16.  2.  0.  0.  0.  0.  4.  8. 16.  4.\n",
      "  0.  0.  0.  0. 11. 14.  9.  0.  0.  0.]\n"
     ]
    }
   ],
   "source": [
    "X = digits.images.reshape((numImagenes, -1)) # se reducen las dimensiones\n",
    "print(X[25])"
   ]
  },
  {
   "cell_type": "markdown",
   "metadata": {},
   "source": [
    "**Traten de pensar en un programa tradicional que les permita clasificar cualquier imágen de números en el dígito correspondiente.**"
   ]
  },
  {
   "cell_type": "markdown",
   "metadata": {},
   "source": [
    "..."
   ]
  },
  {
   "cell_type": "markdown",
   "metadata": {},
   "source": [
    "..."
   ]
  },
  {
   "cell_type": "markdown",
   "metadata": {},
   "source": [
    "## Aprendizaje automático"
   ]
  },
  {
   "cell_type": "markdown",
   "metadata": {},
   "source": [
    "Con un modelo de **machine learning** se puede realizar esta tarea de una manera bastante sencilla."
   ]
  },
  {
   "cell_type": "code",
   "execution_count": 13,
   "metadata": {},
   "outputs": [],
   "source": [
    "#from sklearn.model_selection import train_test_split\n",
    "from sklearn.naive_bayes import GaussianNB\n",
    "import sklearn.metrics as metrics\n",
    "import pylab as plt\n",
    "\n",
    "gnb = GaussianNB()\n",
    "fit = gnb.fit(X, y)"
   ]
  },
  {
   "cell_type": "markdown",
   "metadata": {},
   "source": [
    "Se pueden evaluar las clases estimadas por el modelo vs. las clases reales"
   ]
  },
  {
   "cell_type": "code",
   "execution_count": 14,
   "metadata": {},
   "outputs": [
    {
     "name": "stdout",
     "output_type": "stream",
     "text": [
      "Reales   : [0 1 2 3 4 5 6 7 8 9 0 1 2 3 4 5 6 7 8 9 0 1 2 3 4]\n",
      "Estimados: [0 1 8 3 4 9 6 7 8 9 0 1 2 3 4 5 6 7 7 3 0 1 2 3 4]\n"
     ]
    }
   ],
   "source": [
    "y_estimado = fit.predict(X)\n",
    "print(\"Reales   :\", y[0:25])\n",
    "print(\"Estimados:\", y_estimado[0:25])"
   ]
  },
  {
   "cell_type": "markdown",
   "metadata": {},
   "source": [
    "Podemos tener una idea más clara de los casos en los que se equivoca el modelo:"
   ]
  },
  {
   "cell_type": "code",
   "execution_count": 15,
   "metadata": {},
   "outputs": [
    {
     "data": {
      "image/png": "[encoded data removed]",
      "text/plain": [
       "<Figure size 432x288 with 15 Axes>"
      ]
     },
     "metadata": {
      "needs_background": "light"
     },
     "output_type": "display_data"
    }
   ],
   "source": [
    "images_and_predictions = list(zip(digits.images, y_estimado))\n",
    "for index, (image, prediction) in enumerate(images_and_predictions[:15]):\n",
    "    plt.subplot(3,5, index+1) #se crean los placeholders de 3x5 filasXcolumnas\n",
    "    plt.axis('off')  #se quitan los ejes\n",
    "    plt.imshow(image, cmap=plt.cm.gray_r)\n",
    "    plt.title('Pred: %i' % prediction)\n",
    "plt.show()"
   ]
  },
  {
   "cell_type": "markdown",
   "metadata": {},
   "source": [
    "Nos gustaría tener una idea de la correctitud global del modelo aprendido."
   ]
  },
  {
   "cell_type": "code",
   "execution_count": 16,
   "metadata": {},
   "outputs": [
    {
     "data": {
      "text/plain": [
       "0.8580968280467446"
      ]
     },
     "execution_count": 16,
     "metadata": {},
     "output_type": "execute_result"
    }
   ],
   "source": [
    "metrics.accuracy_score(y, y_estimado)"
   ]
  },
  {
   "cell_type": "markdown",
   "metadata": {},
   "source": [
    "## Tarea \n",
    "\n",
    "Previamente hemos podido utilizar las herramientas de sklearn para cargar las imágenes del dataset notMNIST, a través de pylab visualizamos una muestra y finalmente utilizamos un primer algoritmo de machine learning (Naive Bayes) para el entrenamiento y la predicción de un conjunto de imágenes.\n",
    "\n",
    "Su trabajo es aplicar un método de programación tradicional, es decir, sin usar modelos basados en machine learning. El método debe estar en la capacidad de identificar la etiqueta (el número asignado a la imagen) del conjunto de NotMNIST.\n",
    "\n",
    "Cada pareja de estudiantes se debe encargar de predecir 2 dígitos, específicamente, cada grupo debe seleccionar entre las siguientes opciones de dígitos:\n",
    "\n",
    "+ 1 y 5\n",
    "+ 8 y 2\n",
    "+ 9 y 7\n",
    "+ 0 y 3\n",
    "+ 4 y 6\n",
    "\n",
    "Cada dígito implica la creación de un modelo de clasificación para disitinguir si el dígito está o no en la imagen.\n",
    "Una vez implementados los modelos, para cada modelo, calcule:\n",
    "+ El accuracy y kappa global de cada clasificador\n",
    "+ El precision, recall, especificidad y F-Measure de cada clase\n"
   ]
  },
  {
   "cell_type": "markdown",
   "metadata": {},
   "source": [
    "## Desarrollo Tarea\n",
    "\n",
    "Se implementaron 2 modulos en python, llamados main.py y shapes.py, en esta ultima una pequeña clase llamada Shape\n",
    "\n"
   ]
  },
  {
   "cell_type": "code",
   "execution_count": 17,
   "metadata": {
    "scrolled": true
   },
   "outputs": [],
   "source": [
    "import copy\n",
    "import math\n",
    "class Shape:\n",
    "    MAXVALUE = 12\n",
    "\n",
    "    def __init__(self,matrix):\n",
    "        self.__shape=matrix\n",
    "        self.__sumValues=0\n",
    "        for row in matrix:\n",
    "            for column in row:\n",
    "                self.__sumValues+=column\n",
    "            \n",
    "    \"\"\"\n",
    "    devuelve una matriz con los valores aumentados\n",
    "    en la proporcion del mayor numero soble MAXVALUE\n",
    "    \"\"\"\n",
    "    def preProcessing(self, matri):\n",
    "        max = -1\n",
    "        matrix=copy.deepcopy(matri)\n",
    "        for row in matrix:\n",
    "            for column in row:\n",
    "                if column > max:\n",
    "                    max = column\n",
    "        increment = (Shape.MAXVALUE-max)/max\n",
    "        increment += 1\n",
    "        \n",
    "        for row in matrix:\n",
    "            for  i in range(0,len(row)):\n",
    "                row[i] *= increment\n",
    "                row[i]=int(row[i])\n",
    "        return matrix\n",
    "    \n",
    "    \"\"\"\n",
    "    calcula la semejanza entre las matrices matrix y self.__shape\n",
    "    calculando la matriz diferencia entre ellas, luego se suman los\n",
    "    valores de esta matriz, para finalmente dividirlo por la suma de\n",
    "    los valores en self.__shape\n",
    "    \"\"\"\n",
    "    def calculateLikeness(self,matrix):\n",
    "        matrixSubst=0\n",
    "        for row in range(0,len(matrix)):\n",
    "            for column in range(len(matrix[0])):\n",
    "                matrixSubst+=math.fabs(matrix[row][column]-self.__shape[row][column])\n",
    "        tmp= matrixSubst/self.__sumValues\n",
    "        return 1-tmp\n",
    "    \"\"\"\n",
    "        pinta la matriz de la forma \n",
    "        [\n",
    "            [item,...,item-n],\n",
    "            .\n",
    "            .\n",
    "            [item,...,item-n],\n",
    "        ]\n",
    "    \"\"\"\n",
    "    def print_matrix(self):\n",
    "        print(\"[\", end=\"\")\n",
    "        for i in range(0, len(self.__shape)-1):\n",
    "            print(str(self.__shape[i])+\",\")\n",
    "        print(str(self.__shape[len(self.__shape)-1]), end=\"\")\n",
    "        print(\"]\")"
   ]
  },
  {
   "cell_type": "code",
   "execution_count": 18,
   "metadata": {},
   "outputs": [],
   "source": [
    "\"\"\"Matriz ideal para el número 4\"\"\"\n",
    "matrix_4=  [[0.0, 0.0, 0.0, 1.0, 11.0, 0.0, 0.0, 0.0],\n",
    "[0.0, 0.0, 0.0, 7.0, 8.0, 0.0, 0.0, 0.0],\n",
    "[0.0, 0.0, 1.0, 13.0, 6.0, 2.0, 2.0, 0.0],\n",
    "[0.0, 0.0, 7.0, 15.0, 0.0, 9.0, 8.0, 0.0],\n",
    "[0.0, 5.0, 16.0, 10.0, 0.0, 16.0, 6.0, 0.0],\n",
    "[0.0, 4.0, 15.0, 16.0, 13.0, 16.0, 1.0, 0.0],\n",
    "[0.0, 0.0, 0.0, 3.0, 15.0, 10.0, 0.0, 0.0],\n",
    "[0.0, 0.0, 0.0, 2.0, 16.0, 4.0, 0.0, 0.0]]\n",
    "\n",
    "\"\"\"Matriz ideal para el número 7\"\"\"\n",
    "matrix_7=   [[0.0, 0.0, 7.0, 8.0, 13.0, 16.0, 15.0, 1.0],\n",
    "[0.0, 0.0, 7.0, 7.0, 4.0, 11.0, 12.0, 0.0],\n",
    "[0.0, 0.0, 0.0, 0.0, 8.0, 13.0, 1.0, 0.0],\n",
    "[0.0, 4.0, 8.0, 8.0, 15.0, 15.0, 6.0, 0.0],\n",
    "[0.0, 2.0, 11.0, 15.0, 15.0, 4.0, 0.0, 0.0],\n",
    "[0.0, 0.0, 0.0, 16.0, 5.0, 0.0, 0.0, 0.0],\n",
    "[0.0, 0.0, 9.0, 15.0, 1.0, 0.0, 0.0, 0.0],\n",
    "[0.0, 0.0, 13.0, 5.0, 0.0, 0.0, 0.0, 0.0]]"
   ]
  },
  {
   "cell_type": "code",
   "execution_count": 19,
   "metadata": {},
   "outputs": [
    {
     "name": "stdout",
     "output_type": "stream",
     "text": [
      "Solo ingrese el 4 o el 7\n",
      "Ingrese número a probar: 4\n",
      "Test - 4 --> Rate of success was 0.18232044198895028, with 33 successful and 181 evaluated \n",
      "Ingrese número a probar: \n"
     ]
    }
   ],
   "source": [
    "import pathlib\n",
    "from sklearn.datasets import load_digits\n",
    "import pylab as pl\n",
    "import sklearn\n",
    "\n",
    "\n",
    "class Main:\n",
    "\n",
    "    RATE=0.5\n",
    "    \n",
    "    \"\"\"\n",
    "        Inicializa la un objeto de tipo Main\n",
    "    \"\"\"\n",
    "    def __init__(self):\n",
    "        self.array_evaluated_key = \"array_evaluted\"\n",
    "        self.successful_key = \"successful\"\n",
    "        self.total_evaluated_key = \"total_evaluated\"\n",
    "        self.digits=None\n",
    "        self.targets=None  \n",
    "\n",
    "\n",
    "    def load_default(self):\n",
    "        self.digits = load_digits()\n",
    "        self.targets = self.digits.target\n",
    "\n",
    "    \"\"\"retorna la matriz ideal dependiendo el parametro number\"\"\"\n",
    "    def load_number_file(self,number):\n",
    "        if number==4:\n",
    "            return matrix_4\n",
    "        else:\n",
    "            return matrix_7\n",
    "\n",
    "    \"\"\"Filtra la lista de los targets para hallar los indices de aquellas imagenes en \n",
    "        digits que son 7s o 4s (dependiendo el parametro number1)\n",
    "    \"\"\"\n",
    "    def list_filter(self,number1, targets):\n",
    "        indices_list = []\n",
    "        for i in range(0, len(targets)):\n",
    "            if targets[i] == number1:\n",
    "                indices_list.append(i)\n",
    "        return indices_list\n",
    "\n",
    "    # Corremos el test de un número\n",
    "\n",
    "    \"\"\"Carga las matrices ideales las cuales usaremos para determinar si las matrices en digits\n",
    "        son 7s o 4s\n",
    "    \"\"\"\n",
    "\n",
    "    def run_test(self,number: int):\n",
    "        \"\"\"Cargamos las matrices ideales para armar nuestros shapes\"\"\"\n",
    "        matrix = self.load_number_file(number)\n",
    "\n",
    "        \"\"\"Cargamos y filtramos los indices de las imagenes de estan los digitos\"\"\"\n",
    "\n",
    "        indices_list = self.list_filter(number, self.targets)\n",
    "\n",
    "        \"\"\"Creamos los shapes\"\"\"\n",
    "        shape = Shape(matrix)\n",
    "\n",
    "        total_evaluated = len(indices_list)\n",
    "        successful = 0\n",
    "\n",
    "        array_evaluated_indices = []\n",
    "\n",
    "        \"\"\"Preparamos cada uno de los targets con el preprocesamiento\"\"\"\n",
    "        for i in indices_list:\n",
    "\n",
    "            preprocessed_matrix = shape.preProcessing(self.digits.images[i])\n",
    "            # Result es la probabilidad de que sea el número.\n",
    "            result = shape.calculateLikeness(preprocessed_matrix)\n",
    "            #print(\"%s in %s where target was %s\"% (result,i,targets[i]))\n",
    "            if result >= Main.RATE:\n",
    "                array_evaluated_indices.append(i)\n",
    "                successful += 1\n",
    "            \n",
    "            \"\"\"print(self.digits.images[i])\n",
    "            shape.print_matrix()\"\"\"\n",
    "\n",
    "        return {\n",
    "            self.array_evaluated_key: array_evaluated_indices,\n",
    "            self.successful_key: successful,\n",
    "            self.total_evaluated_key: total_evaluated\n",
    "        }\n",
    "\n",
    "    \n",
    "    \"\"\"Imprime una matriz con el siguiente formato:\n",
    "        [[],\n",
    "         [],\n",
    "         []]\n",
    "    \"\"\"\n",
    "    def print_matrix(self,matrix):\n",
    "        print(\"[\", end=\"\")\n",
    "        for i in range(0, len(matrix)-1):\n",
    "            print(str(matrix[i])+\",\")\n",
    "        print(str(matrix[len(matrix)-1]), end=\"\")\n",
    "        print(\"]\")\n",
    "        \n",
    "    \"\"\"Realiza el test a un número usando el metodo run_test\n",
    "        \n",
    "    \"\"\"\n",
    "    def test_number(self,number):\n",
    "        result = self.run_test(number)\n",
    "        total_evaluated = result[self.total_evaluated_key]\n",
    "        successful = result[self.successful_key]\n",
    "        array_evaluated = result[self.array_evaluated_key]\n",
    "        rate = successful/total_evaluated\n",
    "        return \"Test - %s --> Rate of success was %s, with %s successful and %s evaluated \" % (number,rate,successful,total_evaluated)\n",
    "    \n",
    "\n",
    "\n",
    "##FIN DEL MAIN CLASS\n",
    "\n",
    "\n",
    "main = Main()\n",
    "\n",
    "main.load_default()\n",
    "\n",
    "print(\"Solo ingrese el 4 o el 7\")\n",
    "\n",
    "while True:\n",
    "    inp = input(\"Ingrese número a probar: \")\n",
    "    if inp:\n",
    "        number = int(inp)\n",
    "        print(main.test_number(number))\n",
    "    else:\n",
    "        print(\"se finalizó el test\")\n",
    "        break\n",
    "       "
   ]
  }
 ],
 "metadata": {
  "kernelspec": {
   "display_name": "Python 3",
   "language": "python",
   "name": "python3"
  },
  "language_info": {
   "codemirror_mode": {
    "name": "ipython",
    "version": 3
   },
   "file_extension": ".py",
   "mimetype": "text/x-python",
   "name": "python",
   "nbconvert_exporter": "python",
   "pygments_lexer": "ipython3",
   "version": "3.7.1"
  }
 },
 "nbformat": 4,
 "nbformat_minor": 2
}
